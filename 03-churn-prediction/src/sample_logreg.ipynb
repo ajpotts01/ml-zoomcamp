{
 "cells": [
  {
   "cell_type": "code",
   "execution_count": 8,
   "metadata": {},
   "outputs": [],
   "source": [
    "import pandas as pd\n",
    "import numpy as np\n",
    "\n",
    "from sklearn.feature_extraction import DictVectorizer\n",
    "from sklearn.linear_model import LogisticRegression\n",
    "from sklearn.model_selection import train_test_split\n",
    "from sklearn.metrics import roc_auc_score\n",
    "\n",
    "from tqdm.auto import tqdm"
   ]
  },
  {
   "cell_type": "code",
   "execution_count": 2,
   "metadata": {},
   "outputs": [],
   "source": [
    "DATA_PATH = \"../data/telco.csv\"\n",
    "OUTPUT_PATH = \"../models/model_reg=%s.bin\"\n",
    "\n",
    "numeric_variables = [\"tenure\", \"monthlycharges\", \"totalcharges\"]\n",
    "categorical_variables = [\n",
    "    \"gender\",\n",
    "    \"seniorcitizen\",\n",
    "    \"partner\",\n",
    "    \"dependents\",\n",
    "    \"phoneservice\",\n",
    "    \"multiplelines\",\n",
    "    \"internetservice\",\n",
    "    \"onlinesecurity\",\n",
    "    \"onlinebackup\",\n",
    "    \"deviceprotection\",\n",
    "    \"techsupport\",\n",
    "    \"streamingtv\",\n",
    "    \"streamingmovies\",\n",
    "    \"contract\",\n",
    "    \"paperlessbilling\",\n",
    "    \"paymentmethod\",\n",
    "]"
   ]
  },
  {
   "cell_type": "code",
   "execution_count": 3,
   "metadata": {},
   "outputs": [],
   "source": [
    "# Read the data from DATA_PATH into a pandas dataframe\n",
    "df_data = pd.read_csv(DATA_PATH)"
   ]
  },
  {
   "cell_type": "code",
   "execution_count": 4,
   "metadata": {},
   "outputs": [],
   "source": [
    "# Make all the dataframe's column names lower case and replace spaces with underscores\n",
    "df_data.columns = [col.lower().replace(\" \", \"_\") for col in df_data.columns]\n",
    "\n",
    "# Cast the totalcharges column to numeric, coercing all non-numeric values into NaN\n",
    "df_data.totalcharges = pd.to_numeric(df_data.totalcharges, errors=\"coerce\")\n",
    "# Fill all missing values in the totalcharges column with 0\n",
    "df_data.totalcharges = df_data.totalcharges.fillna(0)\n",
    "\n",
    "# Cast the churn column to numbers\n",
    "df_data.churn = (df_data.churn == \"Yes\").astype(int)"
   ]
  },
  {
   "cell_type": "code",
   "execution_count": 9,
   "metadata": {},
   "outputs": [],
   "source": [
    "# Split the data into full train and test sets\n",
    "df_full_train, df_test = train_test_split(df_data, test_size=0.2, random_state=42)\n",
    "\n",
    "# Create a validation set too - 25%\n",
    "df_train, df_val = train_test_split(df_full_train, test_size=0.25, random_state=42)\n",
    "\n",
    "# Remove the label from the test set\n",
    "y_test = df_test.pop(\"churn\").values"
   ]
  },
  {
   "cell_type": "code",
   "execution_count": 7,
   "metadata": {},
   "outputs": [
    {
     "data": {
      "text/plain": [
       "array([1.00000000e-03, 3.16227766e-02, 1.00000000e+00, 3.16227766e+01,\n",
       "       1.00000000e+03])"
      ]
     },
     "execution_count": 7,
     "metadata": {},
     "output_type": "execute_result"
    }
   ],
   "source": [
    "n_splits: int = 5\n",
    "\n",
    "# import KFold from the right library\n",
    "from sklearn.model_selection import KFold\n",
    "\n",
    "for next_reg_factor in tqdm([0.001, 0.01, 0.1, 0.5, 1, 5, 10]):\n",
    "    # Perform k-fold cross validation for each next_reg_factor\n",
    "    # Use a constant number of splits, n_splits\n",
    "    # please\n",
    "    kfold = KFold(n_splits=n_splits, shuffle=True, random_state=42)\n",
    "\n",
    "    # Create a list to store the AUC scores for each fold\n",
    "    auc_scores = []\n",
    "\n",
    "    # Iterate over each fold\n",
    "    for train_idx, val_idx in tqdm(kfold.split(df_train), total=n_splits):\n",
    "        # Split the training data into training and validation sets\n",
    "        df_train_kfold = df_train.iloc[train_idx]\n",
    "        df_val_kfold = df_train.iloc[val_idx]\n",
    "\n",
    "        # Remove the label from the training and validation sets\n",
    "        y_train_kfold = df_train_kfold.pop(\"churn\").values\n",
    "        y_val_kfold = df_val_kfold.pop(\"churn\").values\n",
    "\n",
    "        # Create a DictVectorizer object and fit it to the training data\n",
    "        dv = DictVectorizer(sparse=False)\n",
    "        dv.fit(df_train_kfold.to_dict(orient=\"records\"))\n",
    "\n",
    "        # Transform the training and validation sets\n",
    "        X_train_kfold = dv.transform(df_train_kfold.to_dict(orient=\"records\"))\n",
    "        X_val_kfold = dv.transform(df_val_kfold.to_dict(orient=\"records\"))\n",
    "\n",
    "        # Create a LogisticRegression object and fit it to the training data\n",
    "        model = LogisticRegression(C=next_reg_factor, max_iter=1000)\n",
    "        model.fit(X_train_kfold, y_train_kfold)\n",
    "\n",
    "        # Calculate the AUC score on the validation data and append it to auc_scores\n",
    "        y_pred_kfold = model.predict_proba(X_val_kfold)[:, 1]\n",
    "        auc_scores.append(roc_auc_score(y_val_kfold, y_pred_kfold))"
   ]
  }
 ],
 "metadata": {
  "kernelspec": {
   "display_name": ".venv",
   "language": "python",
   "name": "python3"
  },
  "language_info": {
   "codemirror_mode": {
    "name": "ipython",
    "version": 3
   },
   "file_extension": ".py",
   "mimetype": "text/x-python",
   "name": "python",
   "nbconvert_exporter": "python",
   "pygments_lexer": "ipython3",
   "version": "3.9.13 (tags/v3.9.13:6de2ca5, May 17 2022, 16:36:42) [MSC v.1929 64 bit (AMD64)]"
  },
  "orig_nbformat": 4,
  "vscode": {
   "interpreter": {
    "hash": "7eee6af7cac87e68df4dd0d1c115f37fc0318a2425ce5e8e24ae6dbbc2650562"
   }
  }
 },
 "nbformat": 4,
 "nbformat_minor": 2
}
