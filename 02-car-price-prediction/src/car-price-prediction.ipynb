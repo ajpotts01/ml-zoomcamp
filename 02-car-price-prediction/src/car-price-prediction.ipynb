{
 "cells": [
  {
   "cell_type": "code",
   "execution_count": null,
   "metadata": {},
   "outputs": [],
   "source": [
    "from typing import Union, Tuple, Callable, Any\n",
    "import inspect\n",
    "import pandas as pd\n",
    "import numpy as np\n",
    "\n",
    "import matplotlib.pyplot as plt\n",
    "import seaborn as sns\n",
    "\n",
    "%matplotlib inline"
   ]
  },
  {
   "cell_type": "code",
   "execution_count": null,
   "metadata": {},
   "outputs": [],
   "source": [
    "# Data is previously retrieved from https://www.kaggle.com/datasets/CooperUnion/cardataset\n",
    "DATA_PATH = '../data/data.csv'"
   ]
  },
  {
   "cell_type": "code",
   "execution_count": null,
   "metadata": {},
   "outputs": [],
   "source": [
    "def standardise_strings(\n",
    "    target: Union[pd.core.strings.accessor.StringMethods, pd.core.indexes.base.Index]\n",
    ") -> Union[pd.core.series.Series, pd.core.indexes.base.Index]:\n",
    "    \"\"\"\n",
    "        Stage 1 cleaning for this price prediction:\n",
    "        - Lower case for everything\n",
    "        - Spaces replaced by underscores\n",
    "\n",
    "        Can work on either Pandas indices (e.g. column headers) or Pandas series (e.g. row data)\n",
    "        \n",
    "        :param StringMethods | Index target: the target row or column to standardise\n",
    "        :return StringMethods | Index result: the standardised row or column\n",
    "\n",
    "        Note the return types are using typing since this was written pre-3.10.\n",
    "    \"\"\"\n",
    "    result = (\n",
    "        target\n",
    "        .str\n",
    "        .lower()\n",
    "        .str\n",
    "        .replace(' ', '_')\n",
    "    )\n",
    "\n",
    "    return result\n",
    "\n",
    "def train_test_val_split(\n",
    "    df_data: pd.DataFrame,\n",
    "    validation_split: float=0.2,\n",
    "    testing_split: float=0.2,\n",
    "    shuffle_seed:int = 2\n",
    ") -> Tuple[pd.DataFrame, pd.DataFrame, pd.DataFrame]:\n",
    "    \"\"\"\n",
    "        Stage 2: Validation framework for this price prediction:\n",
    "        - Source data shuffled with numpy\n",
    "        - Split into validation/test sets in specified ratios\n",
    "        - The remainder reserved for training.\n",
    "\n",
    "        :param pd.DataFrame df_data: dataset to split\n",
    "        :param float validation_split: ratio to split source data into a validation set: 20% by default\n",
    "        :param float testing_split: ratio to split source data into a testing set: 20% by default\n",
    "        :param int shuffle_seed: random seed for shuffling - default is 2\n",
    "\n",
    "        :return Tuple[pd.DataFrame, pd.DataFrame, pd.DataFrame] df_train, df_val, df_test: all dataframes shuffled and split in their specific ratios.\n",
    "\n",
    "        Note the return types are using typing since this was written pre-3.10.\n",
    "    \"\"\"\n",
    "    n = len(df_data)\n",
    "    n_val = int(n * validation_split)\n",
    "    n_test = int(n * testing_split)\n",
    "    n_train = n - n_val - n_test\n",
    "\n",
    "    idx = np.arange(n)\n",
    "    np.random.seed(shuffle_seed)\n",
    "    np.random.shuffle(idx)\n",
    "\n",
    "    df_train = df_data.iloc[idx[:n_train]]\n",
    "    df_val = df_data.iloc[idx[n_train:n_val + n_train]]\n",
    "    df_test = df_data.iloc[idx[n_train + n_val:]]\n",
    "\n",
    "    return df_train, df_val, df_test\n",
    "\n",
    "def regression_setup(\n",
    "    df_data: pd.DataFrame, \n",
    "    label: str\n",
    ") -> Tuple[pd.DataFrame, np.ndarray]:\n",
    "    \"\"\"\n",
    "        Stage 3: Extract y-value from the different train/test/val datasets\n",
    "        The following is done to the source dataframe:\n",
    "        - Index dropped\n",
    "        - Y-value extracted to its own numpy array and returned\n",
    "        - The column used for y-value is deleted from the source dataframe - the modified dataframe is also returned\n",
    "\n",
    "        :param pd.DataFrame df_data: dataset to use\n",
    "        :param str label: Desired y-value\n",
    "\n",
    "        :return Tuple[pd.DataFrame, np.ndarray] df_data, y_data: dataframe with label removed, plus the label data in separate array\n",
    "\n",
    "        Note the return types are using typing since this was written pre-3.10.\n",
    "    \"\"\"\n",
    "    # Indexes not necessary - so drop them\n",
    "    df_data = df_data.reset_index(drop=True)\n",
    "\n",
    "    # Grab the label/y-value as a separate numpy array\n",
    "    y_data = np.log1p(df_data[label].values)\n",
    "\n",
    "    # Get rid of the y-value from the datasets so they don't accidentally get used as features...\n",
    "    del df_data[label]\n",
    "\n",
    "    return df_data, y_data    \n",
    "\n",
    "def summary_printout(\n",
    "    df: pd.DataFrame, \n",
    "    col: str\n",
    "):\n",
    "    \"\"\"\n",
    "        Summary printout for a Pandas dataframe column.\n",
    "\n",
    "        :param pd.DataFrame df: The source dataframe\n",
    "        :param str col: The column name\n",
    "\n",
    "        No returns.\n",
    "    \"\"\"\n",
    "    print(f\"Summary printout for {col}\")\n",
    "    print(f\"Total unique values: {df[col].nunique()}\")\n",
    "    print(f\"Sample: {df[col].unique()[:5]}\")    "
   ]
  },
  {
   "cell_type": "code",
   "execution_count": null,
   "metadata": {},
   "outputs": [],
   "source": [
    "df_cars = pd.read_csv(DATA_PATH)\n",
    "df_cars.head()"
   ]
  },
  {
   "cell_type": "code",
   "execution_count": null,
   "metadata": {},
   "outputs": [],
   "source": [
    "# Stage 1 Cleaning on both column headers and values.\n",
    "df_cars.columns = standardise_strings(df_cars.columns)\n",
    "df_cars.columns\n",
    "\n",
    "# Original code: df.dtypes == 'object' - not a fan.\n",
    "# Get rid of magic strings and filters using those :)\n",
    "object_filter = df_cars.dtypes == type(object)\n",
    "\n",
    "# This is then used to do the same column conversions as before\n",
    "string_cols = list(df_cars.dtypes[object_filter].index)\n",
    "\n",
    "for next_col in string_cols:\n",
    "    df_cars[next_col] = standardise_strings(df_cars[next_col])\n",
    "\n",
    "df_cars.head()"
   ]
  },
  {
   "cell_type": "code",
   "execution_count": null,
   "metadata": {},
   "outputs": [],
   "source": [
    "for next_col in df_cars.columns:\n",
    "    summary_printout(df=df_cars, col=next_col)"
   ]
  },
  {
   "cell_type": "markdown",
   "metadata": {},
   "source": [
    "### First chart\n",
    "\n",
    "We are expecting a long-tail distribution for this dataset - some cars will be very expensive (e.g. up to $2m) and will make the initial graph look skewed."
   ]
  },
  {
   "cell_type": "code",
   "execution_count": null,
   "metadata": {},
   "outputs": [],
   "source": [
    "# First graph to show everything\n",
    "sns.histplot(df_cars.msrp, bins=50)"
   ]
  },
  {
   "cell_type": "code",
   "execution_count": null,
   "metadata": {},
   "outputs": [],
   "source": [
    "# Second graph to show a better view of the distribution\n",
    "# There are still a very large number of cars with $1000 price though\n",
    "filter = df_cars.msrp < 100000\n",
    "sns.histplot(df_cars.msrp[filter], bins=50)"
   ]
  },
  {
   "cell_type": "code",
   "execution_count": null,
   "metadata": {},
   "outputs": [],
   "source": [
    "# Turn prices into logarithmic values (np.log1p so divide by zero error doesn't occur)\n",
    "# The resulting graph is closer to a normal distribution - despite the weird $1000 values (indicates this may be the minimum price to list)\n",
    "log_price = np.log1p(df_cars.msrp)\n",
    "sns.histplot(log_price, bins=50)"
   ]
  },
  {
   "cell_type": "markdown",
   "metadata": {},
   "source": [
    "### Validation framework"
   ]
  },
  {
   "cell_type": "code",
   "execution_count": null,
   "metadata": {},
   "outputs": [],
   "source": [
    "df_cars_train, df_cars_val, df_cars_test = train_test_val_split(df_data=df_cars, validation_split=0.2, testing_split=0.2, shuffle_seed=2)"
   ]
  },
  {
   "cell_type": "code",
   "execution_count": null,
   "metadata": {},
   "outputs": [],
   "source": [
    "# Set up labels for each dataset\n",
    "Y_VAL_LABEL = 'msrp'\n",
    "\n",
    "df_cars_train, y_cars_train = regression_setup(df_cars_train, Y_VAL_LABEL)\n",
    "df_cars_val, y_cars_val = regression_setup(df_cars_val, Y_VAL_LABEL)\n",
    "df_cars_test, y_cars_test = regression_setup(df_cars_test, Y_VAL_LABEL)"
   ]
  },
  {
   "cell_type": "markdown",
   "metadata": {},
   "source": [
    "### Linear Regression Training"
   ]
  },
  {
   "cell_type": "markdown",
   "metadata": {},
   "source": [
    "#### Vector-Based Regression Formula Example\n",
    "$g(x_i) = W_0 + W_1 \\cdot x_{i1} + W_2 \\cdot x_{i2} ... W_n \\cdot x_{in}$\n",
    "\n",
    "This can also be written as:  \n",
    "  \n",
    "$g(x_i) = W_0 + \\sum_{j=1}^n W_j \\cdot x_{ij}$  \n",
    "  \n",
    "or in our case, with 3 features selected:  \n",
    "  \n",
    "$g(x_i) = W_0 + \\sum_{j=1}^3 W_j \\cdot x_{ij}$  \n",
    "\n",
    "But when all records are included, this can be simplified as:\n",
    "$g(X) = X \\cdot y$ where $X$ is a feature matrix, and y is a vector of weights.\n",
    "\n",
    "So long as $W_0$ is integrated into the rest of the weights, and $x_0$ is 1."
   ]
  },
  {
   "cell_type": "code",
   "execution_count": null,
   "metadata": {},
   "outputs": [],
   "source": [
    "def linear_regression(\n",
    "    X: np.ndarray,\n",
    "    w: list\n",
    ") -> np.ndarray:\n",
    "    \n",
    "    prediction = X.dot(w)\n",
    "\n",
    "    return prediction"
   ]
  },
  {
   "cell_type": "code",
   "execution_count": null,
   "metadata": {},
   "outputs": [],
   "source": [
    "x1 = [1, 148, 24, 1385]\n",
    "x2 = [1, 132, 25, 2031]\n",
    "x10 = [1, 453, 11, 86]\n",
    "w = [7.17, 0.01, 0.04, 0.002]\n",
    "\n",
    "X = [x1, x2, x10]\n",
    "X = np.array(X)\n",
    "\n",
    "# Reverse the log1p done on the MSRP in a previous step to get the \"real\" MSRP value\n",
    "np.expm1(linear_regression(X, w))"
   ]
  },
  {
   "cell_type": "markdown",
   "metadata": {},
   "source": [
    "#### Normal Regression Formula\n",
    "\n",
    "The above vector formula was using hard-coded weights. Later, the Zoomcamp goes into deriving these ourselves.\n",
    "\n",
    "This needs to be approximated with something called a **Gram matrix**:\n",
    "\n",
    "$X \\cdot X^T$ where $X^T$ is the feature matrix transposed.\n",
    "\n",
    "This results in the final equation:\n",
    "\n",
    "$w = (X^TX)^{-1} X^Ty$"
   ]
  },
  {
   "cell_type": "code",
   "execution_count": 64,
   "metadata": {},
   "outputs": [],
   "source": [
    "def train_linear_regression(\n",
    "    X: np.ndarray, \n",
    "    y: np.ndarray) -> Tuple[float, np.ndarray]:\n",
    "\n",
    "    \"\"\"\n",
    "        Trains a linear regression model per the \"normal\" regression formula above.\n",
    "        \n",
    "        :param np.ndarray X: matrix of the features\n",
    "        :param np.ndarray y: matrix of the values/labels\n",
    "\n",
    "        :return Tuple[float, np.ndarray] - the bias weight + all the others\n",
    "\n",
    "        Note the return types are using typing since this was written pre-3.10.    \n",
    "    \"\"\"\n",
    "\n",
    "    # Add 1s\n",
    "    ones = np.ones(X.shape[0])\n",
    "    X = np.column_stack([ones, X])\n",
    "\n",
    "    # Normal equation with transposed X\n",
    "    XTX = X.T.dot(X)\n",
    "    XTX_inv = np.linalg.inv(XTX)\n",
    "    w_full = XTX_inv.dot(X.T).dot(y)\n",
    "\n",
    "    return w_full[0], w_full[1:]\n",
    "\n",
    "def train_linear_regression_regularized(\n",
    "    X: np.ndarray,\n",
    "    y: np.ndarray,\n",
    "    r: float=0.001\n",
    ") -> Tuple[float, np.ndarray]:\n",
    "\n",
    "    \"\"\"\n",
    "        Trains a linear regression model per the \"normal\" regression formula above.\n",
    "        \n",
    "        :param np.ndarray X: matrix of the features\n",
    "        :param np.ndarray y: matrix of the values/labels\n",
    "\n",
    "        :return Tuple[float, np.ndarray] - the bias weight + all the others\n",
    "\n",
    "        Note the return types are using typing since this was written pre-3.10.    \n",
    "    \"\"\"   \n",
    "\n",
    "    # Add 1s\n",
    "    ones = np.ones(X.shape[0])\n",
    "    X = np.column_stack([ones, X])\n",
    "\n",
    "    # Normal equation with transposed X\n",
    "    XTX = X.T.dot(X)\n",
    "    # Regularize!\n",
    "    XTX = XTX + r * np.eye(XTX.shape[0])\n",
    "    XTX_inv = np.linalg.inv(XTX)\n",
    "    w_full = XTX_inv.dot(X.T).dot(y)\n",
    "\n",
    "    return w_full[0], w_full[1:]    "
   ]
  },
  {
   "cell_type": "code",
   "execution_count": null,
   "metadata": {},
   "outputs": [],
   "source": [
    "def prepare_X(\n",
    "    features: list,\n",
    "    df_data: pd.DataFrame\n",
    ") -> np.ndarray:\n",
    "    #print(f\"Features: {features}\")\n",
    "    df_features = df_data[features].fillna(0)\n",
    "    X = df_features.values\n",
    "    return X"
   ]
  },
  {
   "cell_type": "code",
   "execution_count": null,
   "metadata": {},
   "outputs": [],
   "source": [
    "list_features_base = ['engine_hp', 'engine_cylinders', 'highway_mpg', 'city_mpg', 'popularity']\n",
    "features_base = {x: None for x in list_features_base}"
   ]
  },
  {
   "cell_type": "code",
   "execution_count": null,
   "metadata": {},
   "outputs": [],
   "source": [
    "# Training\n",
    "X_cars_train = prepare_X(list_features_base, df_cars_train)\n",
    "# Already have y_cars_train earlier from the cleaning stage\n",
    "\n",
    "w0, w = train_linear_regression(X_cars_train, y_cars_train)\n",
    "y_cars_pred = w0 + X_cars_train.dot(w)"
   ]
  },
  {
   "cell_type": "markdown",
   "metadata": {},
   "source": [
    "#### Comparing initial model vs. actual values\n",
    "\n",
    "It's a bit off."
   ]
  },
  {
   "cell_type": "code",
   "execution_count": null,
   "metadata": {},
   "outputs": [],
   "source": [
    "sns.histplot(y_cars_pred, color='red', alpha=0.5, bins=50)\n",
    "sns.histplot(y_cars_train, color='blue', alpha=0.5, bins=50)"
   ]
  },
  {
   "cell_type": "markdown",
   "metadata": {},
   "source": [
    "#### Using RMSE to figure things out\n",
    "\n",
    "RMSE = \"Root Mean Squared Error\""
   ]
  },
  {
   "cell_type": "code",
   "execution_count": null,
   "metadata": {},
   "outputs": [],
   "source": [
    "def rmse(\n",
    "    y: np.ndarray, \n",
    "    y_pred: np.ndarray\n",
    ") -> np.float64:\n",
    "    squared_error = (y - y_pred) ** 2\n",
    "    mean_squared_error = squared_error.mean()\n",
    "    root_mean_squared_error = np.sqrt(mean_squared_error)\n",
    "    return root_mean_squared_error"
   ]
  },
  {
   "cell_type": "code",
   "execution_count": null,
   "metadata": {},
   "outputs": [],
   "source": [
    "list_features_base = ['engine_hp', 'engine_cylinders', 'highway_mpg', 'city_mpg', 'popularity']\n",
    "\n",
    "# Training\n",
    "X_cars_train = prepare_X(list_features_base, df_cars_train)\n",
    "# Already have y_cars_train earlier from the cleaning stage\n",
    "\n",
    "w0, w = train_linear_regression(X_cars_train, y_cars_train)\n",
    "y_cars_pred = w0 + X_cars_train.dot(w)\n",
    "\n",
    "# Validation\n",
    "X_cars_val = prepare_X(list_features_base, df_cars_val)\n",
    "y_cars_val_pred = w0 + X_cars_val.dot(w)\n",
    "\n",
    "rmse(y_cars_val, y_cars_val_pred)"
   ]
  },
  {
   "cell_type": "markdown",
   "metadata": {},
   "source": [
    "#### Feature Engineering\n",
    "\n",
    "The Zoomcamp goes really hard on copy/pasting code with new feature sets to do the same thing. \n",
    "\n",
    "In this notebook, a few things have been modularised:\n",
    "- Adding a new feature to the dataframe\n",
    "- Turning the above linear regression calc into its own method\n",
    "- Returning the RMSE straight away.\n",
    "\n",
    "Adding new features was originally done via dictionaries and lambdas to add support for any calculations. This became unusable once a more generic way to add large numbers of features was required.\n",
    "\n",
    "These methods are commented out in case there's time to fix them."
   ]
  },
  {
   "cell_type": "code",
   "execution_count": null,
   "metadata": {},
   "outputs": [],
   "source": [
    "# def add_new_feature_basic(\n",
    "#     df_data: pd.DataFrame,\n",
    "#     feature_name: str,\n",
    "#     feature_target_col: str,\n",
    "#     feature_target_val: Any,\n",
    "#     feature_target_type: str\n",
    "# ) -> pd.DataFrame:\n",
    "#     feature_kwargs = {\n",
    "#         feature_name: lambda x: (x[feature_target_col] == feature_target_val).astype(feature_target_type)\n",
    "#     }\n",
    "#     df_new = df_data.assign(**feature_kwargs)\n",
    "\n",
    "#     return df_new\n",
    "\n",
    "# def add_new_feature_dynamic(\n",
    "#     df_data: pd.DataFrame,\n",
    "#     feature_name: str,\n",
    "#     feature_calc: Callable\n",
    "# ) -> pd.DataFrame:\n",
    "#     feature_kwargs = {\n",
    "#         feature_name: feature_calc\n",
    "#     }\n",
    "#     df_new = df_data.assign(**feature_kwargs)\n",
    "#     return df_new"
   ]
  },
  {
   "cell_type": "code",
   "execution_count": 78,
   "metadata": {},
   "outputs": [],
   "source": [
    "def get_most_popular_values(\n",
    "    df_data: pd.DataFrame,\n",
    "    col: str\n",
    ") -> list[str]:\n",
    "    return list(df_data[col].value_counts().head().index)\n",
    "\n",
    "def get_doors_numbers() -> list[int]:\n",
    "    return [2, 3, 4]\n",
    "\n",
    "def get_base_features() -> list[str]:\n",
    "    return ['engine_hp', 'engine_cylinders', 'highway_mpg', 'city_mpg', 'popularity']\n",
    "\n",
    "def get_age_feature() -> list[str]:\n",
    "    return ['age']\n",
    "\n",
    "def get_doors_features() -> list[str]:\n",
    "    return [f'num_doors_{x}' for x in get_doors_numbers()]\n",
    "\n",
    "def map_extra_features(\n",
    "    df_to_map: pd.DataFrame\n",
    ") -> dict:\n",
    "    extra_categories = ['make', 'model', 'engine_fuel_type', 'driven_wheels', 'market_category', 'vehicle_size', 'vehicle_style']\n",
    "    popular_cat_values = {c: get_most_popular_values(df_to_map, c) for c in extra_categories}\n",
    "\n",
    "    return popular_cat_values\n",
    "\n",
    "def add_features_to_dataframe(\n",
    "    df_data: pd.DataFrame,\n",
    "    base: bool = True,\n",
    "    age: bool = False,\n",
    "    doors: bool = False,\n",
    "    extra_categories: dict = None\n",
    ") -> Tuple[pd.DataFrame, list[str]]:\n",
    "\n",
    "    features = []\n",
    "    df_new = df_data.copy()\n",
    "    \n",
    "    if (base):\n",
    "        features += ['engine_hp', 'engine_cylinders', 'highway_mpg', 'city_mpg', 'popularity']\n",
    "\n",
    "    if (age):\n",
    "        df_new = df_new.assign(age=lambda x: 2017 - x.year)\n",
    "\n",
    "    if (doors):\n",
    "        for num_doors in get_doors_numbers():\n",
    "            key = f'num_doors_{num_doors}'\n",
    "            df_new[key] = (df_new['number_of_doors'] == num_doors).astype('int')\n",
    "    \n",
    "    if (extra_categories):\n",
    "        for next_cat, values in extra_categories.items():\n",
    "            for next_val in values:\n",
    "                key = f'{next_cat}_{next_val}'\n",
    "                df_new[key] = (df_new[next_cat] == next_val).astype('int')\n",
    "\n",
    "    return df_new\n",
    "\n",
    "def linear_regression_evaluation_workflow(\n",
    "    features: list[str],\n",
    "    df_train: pd.DataFrame,\n",
    "    df_val: pd.DataFrame,\n",
    "    y_train: np.ndarray,\n",
    "    y_val_actual: np.ndarray,\n",
    "    regularization_factor: float = None\n",
    ") -> Tuple[pd.DataFrame, np.float64, np.float64]:\n",
    "    X_train = prepare_X(features, df_train)\n",
    "\n",
    "    w0, w = train_linear_regression_regularized(X_train, y_train, r=regularization_factor) if regularization_factor else train_linear_regression(X_train, y_train)\n",
    "\n",
    "    # Validation\n",
    "    X_val = prepare_X(features, df_val)\n",
    "    y_val_pred = w0 + X_val.dot(w)\n",
    "\n",
    "    return df_train, rmse(y_val_actual, y_val_pred), w0\n",
    "\n",
    "def linear_regression_training_workflow(\n",
    "    features: list[str],\n",
    "    df_train: pd.DataFrame,\n",
    "    y_train: np.ndarray,\n",
    "    regularization_factor: float = None\n",
    ") -> Tuple[np.float64, np.ndarray]:\n",
    "    X_train = prepare_X(features, df_train)\n",
    "\n",
    "    w0, w = train_linear_regression_regularized(X_train, y_train, r=regularization_factor) if regularization_factor else train_linear_regression(X_train, y_train)\n",
    "\n",
    "    return w0, w\n",
    "\n",
    "def linear_regression_testing_workflow(\n",
    "    features: list[str],\n",
    "    df_test: pd.DataFrame,\n",
    "    y_test: np.ndarray,\n",
    "    w0: np.float64,\n",
    "    w: np.ndarray\n",
    ") -> np.float64:\n",
    "    X_test = prepare_X(features, df_test)\n",
    "\n",
    "    y_pred = w0 + X_test.dot(w)\n",
    "\n",
    "    score = rmse(y_test, y_pred)\n",
    "\n",
    "    return score\n"
   ]
  },
  {
   "cell_type": "code",
   "execution_count": null,
   "metadata": {},
   "outputs": [],
   "source": [
    "# Again, removed this bit - it was working well until many list/dictionary comprehensions were needed\n",
    "\n",
    "# With the lambda - must re-assign x to a default argument to evaluate it at the time this dictionary is built\n",
    "# If not, it will evaluate when the loop below is done, which will have the following cols added to the dataframes:\n",
    "# num_doors_2: lambda y: (y.number_of_doors == 4).astype('int')\n",
    "# num_doors_3: lambda y: (y.number_of_doors == 4).astype('int')\n",
    "# num_doors_4: lambda y: (y.number_of_doors == 4).astype('int')\n",
    "# Read this for more info: https://stackoverflow.com/questions/36805071/dictionary-comprehension-with-lambda-functions-gives-wrong-results\n",
    "# So x=x as default argument for lambda y forces evaluation immediately.\n",
    "# features_doors = {f'num_doors_{x}': lambda y, x=x: (y.number_of_doors == x).astype('int') for x in [2, 3, 4]}\n",
    "\n",
    "# features_doors_test = {\n",
    "#     **features_base,\n",
    "#     **features_age,\n",
    "#     **features_doors\n",
    "# }\n",
    "# linear_regression_evaluation_workflow(\n",
    "#     added_features=features_doors_test,\n",
    "#     df_train_base=df_cars_train,\n",
    "#     df_val_base=df_cars_val,\n",
    "#     y_train=y_cars_train,\n",
    "#     y_val_actual=y_cars_val   \n",
    "# )"
   ]
  },
  {
   "cell_type": "code",
   "execution_count": null,
   "metadata": {},
   "outputs": [],
   "source": [
    "# # Same as before with makes this time, but only the 5 most popular?\n",
    "# popular_makes = list(df_cars['make'].value_counts().head().index)\n",
    "# features_popular_makes = {f'make_{x}': lambda y, x=x: (y.make == x).astype('int') for x in popular_makes}\n",
    "\n",
    "# features_new_makes = {\n",
    "#     **features_base,\n",
    "#     **features_age,\n",
    "#     **features_doors,\n",
    "#     **features_popular_makes\n",
    "# }\n",
    "\n",
    "# linear_regression_evaluation_workflow(\n",
    "#     added_features=features_new_makes,\n",
    "#     df_train_base=df_cars_train,\n",
    "#     df_val_base=df_cars_val,\n",
    "#     y_train=y_cars_train,\n",
    "#     y_val_actual=y_cars_val   \n",
    "# )"
   ]
  },
  {
   "cell_type": "code",
   "execution_count": 61,
   "metadata": {},
   "outputs": [
    {
     "name": "stdout",
     "output_type": "stream",
     "text": [
      "Mapping extra features\n",
      "Creating main features list\n",
      "Creating training df\n",
      "Creating validation df\n",
      "['engine_hp', 'engine_cylinders', 'highway_mpg', 'city_mpg', 'popularity', 'age', 'num_doors_2', 'num_doors_3', 'num_doors_4', 'make_chevrolet', 'make_ford', 'make_volkswagen', 'make_toyota', 'make_dodge', 'model_silverado_1500', 'model_tundra', 'model_f-150', 'model_sierra_1500', 'model_tacoma', 'engine_fuel_type_regular_unleaded', 'engine_fuel_type_premium_unleaded_(required)', 'engine_fuel_type_premium_unleaded_(recommended)', 'engine_fuel_type_flex-fuel_(unleaded/e85)', 'engine_fuel_type_diesel', 'driven_wheels_front_wheel_drive', 'driven_wheels_rear_wheel_drive', 'driven_wheels_all_wheel_drive', 'driven_wheels_four_wheel_drive', 'market_category_crossover', 'market_category_flex_fuel', 'market_category_luxury', 'market_category_hatchback', 'market_category_luxury,performance', 'vehicle_size_compact', 'vehicle_size_midsize', 'vehicle_size_large', 'vehicle_style_sedan', 'vehicle_style_4dr_suv', 'vehicle_style_coupe', 'vehicle_style_convertible', 'vehicle_style_4dr_hatchback']\n",
      "Running linear regression\n"
     ]
    },
    {
     "data": {
      "text/plain": [
       "(             make        model  year                engine_fuel_type  \\\n",
       " 0       chevrolet       cobalt  2008                regular_unleaded   \n",
       " 1          toyota       matrix  2012                regular_unleaded   \n",
       " 2          subaru      impreza  2016                regular_unleaded   \n",
       " 3      volkswagen      vanagon  1991                regular_unleaded   \n",
       " 4            ford        f-150  2017        flex-fuel_(unleaded/e85)   \n",
       " ...           ...          ...   ...                             ...   \n",
       " 7145          bmw     4_series  2015     premium_unleaded_(required)   \n",
       " 7146   volkswagen       beetle  2015  premium_unleaded_(recommended)   \n",
       " 7147          gmc  sierra_1500  2015        flex-fuel_(unleaded/e85)   \n",
       " 7148  rolls-royce        ghost  2014     premium_unleaded_(required)   \n",
       " 7149   volkswagen           cc  2017  premium_unleaded_(recommended)   \n",
       " \n",
       "       engine_hp  engine_cylinders transmission_type      driven_wheels  \\\n",
       " 0         148.0               4.0            manual  front_wheel_drive   \n",
       " 1         132.0               4.0         automatic  front_wheel_drive   \n",
       " 2         148.0               4.0         automatic    all_wheel_drive   \n",
       " 3          90.0               4.0            manual   rear_wheel_drive   \n",
       " 4         385.0               8.0         automatic   four_wheel_drive   \n",
       " ...         ...               ...               ...                ...   \n",
       " 7145      300.0               6.0         automatic   rear_wheel_drive   \n",
       " 7146      210.0               4.0  automated_manual  front_wheel_drive   \n",
       " 7147      285.0               6.0         automatic   four_wheel_drive   \n",
       " 7148      563.0              12.0         automatic   rear_wheel_drive   \n",
       " 7149      200.0               4.0  automated_manual  front_wheel_drive   \n",
       " \n",
       "       number_of_doors            market_category  ...  \\\n",
       " 0                 2.0                        NaN  ...   \n",
       " 1                 4.0                  hatchback  ...   \n",
       " 2                 4.0                  hatchback  ...   \n",
       " 3                 3.0                        NaN  ...   \n",
       " 4                 4.0                  flex_fuel  ...   \n",
       " ...               ...                        ...  ...   \n",
       " 7145              2.0         luxury,performance  ...   \n",
       " 7146              2.0      hatchback,performance  ...   \n",
       " 7147              4.0                  flex_fuel  ...   \n",
       " 7148              4.0  exotic,luxury,performance  ...   \n",
       " 7149              4.0                performance  ...   \n",
       " \n",
       "      market_category_hatchback market_category_luxury,performance  \\\n",
       " 0                            0                                  0   \n",
       " 1                            1                                  0   \n",
       " 2                            1                                  0   \n",
       " 3                            0                                  0   \n",
       " 4                            0                                  0   \n",
       " ...                        ...                                ...   \n",
       " 7145                         0                                  1   \n",
       " 7146                         0                                  0   \n",
       " 7147                         0                                  0   \n",
       " 7148                         0                                  0   \n",
       " 7149                         0                                  0   \n",
       " \n",
       "       vehicle_size_compact  vehicle_size_midsize  vehicle_size_large  \\\n",
       " 0                        1                     0                   0   \n",
       " 1                        1                     0                   0   \n",
       " 2                        1                     0                   0   \n",
       " 3                        0                     0                   1   \n",
       " 4                        0                     0                   1   \n",
       " ...                    ...                   ...                 ...   \n",
       " 7145                     0                     1                   0   \n",
       " 7146                     1                     0                   0   \n",
       " 7147                     0                     0                   1   \n",
       " 7148                     0                     0                   1   \n",
       " 7149                     0                     1                   0   \n",
       " \n",
       "       vehicle_style_sedan  vehicle_style_4dr_suv  vehicle_style_coupe  \\\n",
       " 0                       0                      0                    1   \n",
       " 1                       0                      0                    0   \n",
       " 2                       0                      0                    0   \n",
       " 3                       0                      0                    0   \n",
       " 4                       0                      0                    0   \n",
       " ...                   ...                    ...                  ...   \n",
       " 7145                    0                      0                    0   \n",
       " 7146                    0                      0                    0   \n",
       " 7147                    0                      0                    0   \n",
       " 7148                    1                      0                    0   \n",
       " 7149                    1                      0                    0   \n",
       " \n",
       "       vehicle_style_convertible  vehicle_style_4dr_hatchback  \n",
       " 0                             0                            0  \n",
       " 1                             0                            1  \n",
       " 2                             0                            1  \n",
       " 3                             0                            0  \n",
       " 4                             0                            0  \n",
       " ...                         ...                          ...  \n",
       " 7145                          1                            0  \n",
       " 7146                          0                            0  \n",
       " 7147                          0                            0  \n",
       " 7148                          0                            0  \n",
       " 7149                          0                            0  \n",
       " \n",
       " [7150 rows x 51 columns],\n",
       " 33.74198951691965)"
      ]
     },
     "execution_count": 61,
     "metadata": {},
     "output_type": "execute_result"
    }
   ],
   "source": [
    "print(\"Mapping extra features\")\n",
    "extra_features = map_extra_features(df_cars_train)\n",
    "\n",
    "print(\"Creating main features list\")\n",
    "features_all = (get_base_features()\n",
    "            + get_age_feature()\n",
    "            + get_doors_features()\n",
    "            + [f'{key}_{val}' for key, vals in extra_features.items() for val in vals]\n",
    ")\n",
    "\n",
    "get_age = True\n",
    "get_doors = True\n",
    "get_base = True\n",
    "\n",
    "print(\"Creating training df\")\n",
    "df_train_all = add_features_to_dataframe(df_cars_train, base=get_base, age=get_age, doors=get_doors, extra_categories=extra_features)\n",
    "print(\"Creating validation df\")\n",
    "df_val_all = add_features_to_dataframe(df_cars_val, base=get_base, age=get_age, doors=get_doors, extra_categories=extra_features)\n",
    "\n",
    "print(features_all)\n",
    "\n",
    "print(\"Running linear regression\")\n",
    "linear_regression_evaluation_workflow(\n",
    "    features=features_all,\n",
    "    df_train=df_train_all,\n",
    "    df_val=df_val_all,\n",
    "    y_train=y_cars_train,\n",
    "    y_val_actual=y_cars_val\n",
    ")"
   ]
  },
  {
   "cell_type": "markdown",
   "metadata": {},
   "source": [
    "#### So how do we fix this?\n",
    "\n",
    "#### Regularization!\n",
    "\n",
    "I really don't understand the math behind this but the effects speak for themselves."
   ]
  },
  {
   "cell_type": "code",
   "execution_count": 86,
   "metadata": {},
   "outputs": [
    {
     "name": "stdout",
     "output_type": "stream",
     "text": [
      "Mapping extra features\n",
      "Creating main features list\n",
      "Creating training df\n",
      "Creating validation df\n",
      "['engine_hp', 'engine_cylinders', 'highway_mpg', 'city_mpg', 'popularity', 'age', 'num_doors_2', 'num_doors_3', 'num_doors_4', 'make_chevrolet', 'make_ford', 'make_volkswagen', 'make_toyota', 'make_dodge', 'model_silverado_1500', 'model_tundra', 'model_f-150', 'model_sierra_1500', 'model_tacoma', 'engine_fuel_type_regular_unleaded', 'engine_fuel_type_premium_unleaded_(required)', 'engine_fuel_type_premium_unleaded_(recommended)', 'engine_fuel_type_flex-fuel_(unleaded/e85)', 'engine_fuel_type_diesel', 'driven_wheels_front_wheel_drive', 'driven_wheels_rear_wheel_drive', 'driven_wheels_all_wheel_drive', 'driven_wheels_four_wheel_drive', 'market_category_crossover', 'market_category_flex_fuel', 'market_category_luxury', 'market_category_hatchback', 'market_category_luxury,performance', 'vehicle_size_compact', 'vehicle_size_midsize', 'vehicle_size_large', 'vehicle_style_sedan', 'vehicle_style_4dr_suv', 'vehicle_style_coupe', 'vehicle_style_convertible', 'vehicle_style_4dr_hatchback']\n",
      "Running linear regression\n"
     ]
    },
    {
     "data": {
      "text/plain": [
       "(             make        model  year                engine_fuel_type  \\\n",
       " 0       chevrolet       cobalt  2008                regular_unleaded   \n",
       " 1          toyota       matrix  2012                regular_unleaded   \n",
       " 2          subaru      impreza  2016                regular_unleaded   \n",
       " 3      volkswagen      vanagon  1991                regular_unleaded   \n",
       " 4            ford        f-150  2017        flex-fuel_(unleaded/e85)   \n",
       " ...           ...          ...   ...                             ...   \n",
       " 7145          bmw     4_series  2015     premium_unleaded_(required)   \n",
       " 7146   volkswagen       beetle  2015  premium_unleaded_(recommended)   \n",
       " 7147          gmc  sierra_1500  2015        flex-fuel_(unleaded/e85)   \n",
       " 7148  rolls-royce        ghost  2014     premium_unleaded_(required)   \n",
       " 7149   volkswagen           cc  2017  premium_unleaded_(recommended)   \n",
       " \n",
       "       engine_hp  engine_cylinders transmission_type      driven_wheels  \\\n",
       " 0         148.0               4.0            manual  front_wheel_drive   \n",
       " 1         132.0               4.0         automatic  front_wheel_drive   \n",
       " 2         148.0               4.0         automatic    all_wheel_drive   \n",
       " 3          90.0               4.0            manual   rear_wheel_drive   \n",
       " 4         385.0               8.0         automatic   four_wheel_drive   \n",
       " ...         ...               ...               ...                ...   \n",
       " 7145      300.0               6.0         automatic   rear_wheel_drive   \n",
       " 7146      210.0               4.0  automated_manual  front_wheel_drive   \n",
       " 7147      285.0               6.0         automatic   four_wheel_drive   \n",
       " 7148      563.0              12.0         automatic   rear_wheel_drive   \n",
       " 7149      200.0               4.0  automated_manual  front_wheel_drive   \n",
       " \n",
       "       number_of_doors            market_category  ...  \\\n",
       " 0                 2.0                        NaN  ...   \n",
       " 1                 4.0                  hatchback  ...   \n",
       " 2                 4.0                  hatchback  ...   \n",
       " 3                 3.0                        NaN  ...   \n",
       " 4                 4.0                  flex_fuel  ...   \n",
       " ...               ...                        ...  ...   \n",
       " 7145              2.0         luxury,performance  ...   \n",
       " 7146              2.0      hatchback,performance  ...   \n",
       " 7147              4.0                  flex_fuel  ...   \n",
       " 7148              4.0  exotic,luxury,performance  ...   \n",
       " 7149              4.0                performance  ...   \n",
       " \n",
       "      market_category_hatchback market_category_luxury,performance  \\\n",
       " 0                            0                                  0   \n",
       " 1                            1                                  0   \n",
       " 2                            1                                  0   \n",
       " 3                            0                                  0   \n",
       " 4                            0                                  0   \n",
       " ...                        ...                                ...   \n",
       " 7145                         0                                  1   \n",
       " 7146                         0                                  0   \n",
       " 7147                         0                                  0   \n",
       " 7148                         0                                  0   \n",
       " 7149                         0                                  0   \n",
       " \n",
       "       vehicle_size_compact  vehicle_size_midsize  vehicle_size_large  \\\n",
       " 0                        1                     0                   0   \n",
       " 1                        1                     0                   0   \n",
       " 2                        1                     0                   0   \n",
       " 3                        0                     0                   1   \n",
       " 4                        0                     0                   1   \n",
       " ...                    ...                   ...                 ...   \n",
       " 7145                     0                     1                   0   \n",
       " 7146                     1                     0                   0   \n",
       " 7147                     0                     0                   1   \n",
       " 7148                     0                     0                   1   \n",
       " 7149                     0                     1                   0   \n",
       " \n",
       "       vehicle_style_sedan  vehicle_style_4dr_suv  vehicle_style_coupe  \\\n",
       " 0                       0                      0                    1   \n",
       " 1                       0                      0                    0   \n",
       " 2                       0                      0                    0   \n",
       " 3                       0                      0                    0   \n",
       " 4                       0                      0                    0   \n",
       " ...                   ...                    ...                  ...   \n",
       " 7145                    0                      0                    0   \n",
       " 7146                    0                      0                    0   \n",
       " 7147                    0                      0                    0   \n",
       " 7148                    1                      0                    0   \n",
       " 7149                    1                      0                    0   \n",
       " \n",
       "       vehicle_style_convertible  vehicle_style_4dr_hatchback  \n",
       " 0                             0                            0  \n",
       " 1                             0                            1  \n",
       " 2                             0                            1  \n",
       " 3                             0                            0  \n",
       " 4                             0                            0  \n",
       " ...                         ...                          ...  \n",
       " 7145                          1                            0  \n",
       " 7146                          0                            0  \n",
       " 7147                          0                            0  \n",
       " 7148                          0                            0  \n",
       " 7149                          0                            0  \n",
       " \n",
       " [7150 rows x 51 columns],\n",
       " 0.460815858442581,\n",
       " 7.131081099941378)"
      ]
     },
     "execution_count": 86,
     "metadata": {},
     "output_type": "execute_result"
    }
   ],
   "source": [
    "print(\"Mapping extra features\")\n",
    "extra_features = map_extra_features(df_cars_train)\n",
    "\n",
    "print(\"Creating main features list\")\n",
    "features_all = (get_base_features()\n",
    "            + get_age_feature()\n",
    "            + get_doors_features()\n",
    "            + [f'{key}_{val}' for key, vals in extra_features.items() for val in vals]\n",
    ")\n",
    "\n",
    "get_age = True\n",
    "get_doors = True\n",
    "get_base = True\n",
    "\n",
    "print(\"Creating training df\")\n",
    "df_train_all = add_features_to_dataframe(df_cars_train, base=get_base, age=get_age, doors=get_doors, extra_categories=extra_features)\n",
    "print(\"Creating validation df\")\n",
    "df_val_all = add_features_to_dataframe(df_cars_val, base=get_base, age=get_age, doors=get_doors, extra_categories=extra_features)\n",
    "\n",
    "print(features_all)\n",
    "\n",
    "print(\"Running linear regression\")\n",
    "linear_regression_evaluation_workflow(\n",
    "    features=features_all,\n",
    "    df_train=df_train_all,\n",
    "    df_val=df_val_all,\n",
    "    y_train=y_cars_train,\n",
    "    y_val_actual=y_cars_val,\n",
    "    regularization_factor=0.001\n",
    ")"
   ]
  },
  {
   "cell_type": "code",
   "execution_count": 70,
   "metadata": {},
   "outputs": [
    {
     "name": "stdout",
     "output_type": "stream",
     "text": [
      "r: 0.0\n",
      "rmse: 33.74198951691965\n",
      "bias: -329305798173194.06\n",
      "r: 1e-05\n",
      "rmse: 0.4608152979726957\n",
      "bias: 6.807088632309245\n",
      "r: 0.0001\n",
      "rmse: 0.46081536379466387\n",
      "bias: 7.14146160450656\n",
      "r: 0.001\n",
      "rmse: 0.460815858442581\n",
      "bias: 7.131081099941378\n",
      "r: 0.1\n",
      "rmse: 0.46087365491137133\n",
      "bias: 7.000232410790203\n",
      "r: 1\n",
      "rmse: 0.4615812838275859\n",
      "bias: 6.250747847552861\n",
      "r: 10\n",
      "rmse: 0.4726098772669202\n",
      "bias: 4.729512585677039\n"
     ]
    }
   ],
   "source": [
    "for r in [0.0, 0.00001, 0.0001, 0.001, 0.1, 1, 10]:\n",
    "    df_result, error_result, bias = linear_regression_evaluation_workflow(\n",
    "        features=features_all,\n",
    "        df_train=df_train_all,\n",
    "        df_val=df_val_all,\n",
    "        y_train=y_cars_train,\n",
    "        y_val_actual=y_cars_val,\n",
    "        regularization_factor=r\n",
    "    )\n",
    "    print(f'r: {r}')\n",
    "    print(f'rmse: {error_result}')\n",
    "    print(f'bias: {bias}')"
   ]
  },
  {
   "cell_type": "code",
   "execution_count": 72,
   "metadata": {},
   "outputs": [
    {
     "name": "stdout",
     "output_type": "stream",
     "text": [
      "0.460815858442581\n"
     ]
    }
   ],
   "source": [
    "# 0.001 won that.\n",
    "\n",
    "df_result, error_result, bias = linear_regression_evaluation_workflow(\n",
    "    features=features_all,\n",
    "    df_train=df_train_all,\n",
    "    df_val=df_val_all,\n",
    "    y_train=y_cars_train,\n",
    "    y_val_actual=y_cars_val,\n",
    "    regularization_factor=0.001\n",
    ")\n",
    "\n",
    "print(error_result)"
   ]
  },
  {
   "cell_type": "markdown",
   "metadata": {},
   "source": [
    "#### Time for Testing!"
   ]
  },
  {
   "cell_type": "code",
   "execution_count": 118,
   "metadata": {},
   "outputs": [],
   "source": [
    "# Didn't realise testing was done on train + test instead of test alone\n",
    "df_combined = pd.concat([df_cars_train, df_cars_test]).reset_index(drop=True)\n",
    "y_full_train = np.concatenate([y_cars_train, y_cars_val])\n",
    "\n",
    "extra_features = map_extra_features(df_combined)\n",
    "\n",
    "features_all = (get_base_features()\n",
    "            + get_age_feature()\n",
    "            + get_doors_features()\n",
    "            + [f'{key}_{val}' for key, vals in extra_features.items() for val in vals]\n",
    ")\n",
    "\n",
    "get_age = True\n",
    "get_doors = True\n",
    "get_base = True\n",
    "\n",
    "df_full_train = add_features_to_dataframe(df_combined, base=get_base, age=get_age, doors=get_doors, extra_categories=extra_features)"
   ]
  },
  {
   "cell_type": "code",
   "execution_count": 119,
   "metadata": {},
   "outputs": [
    {
     "data": {
      "text/plain": [
       "7.1407954427979075"
      ]
     },
     "execution_count": 119,
     "metadata": {},
     "output_type": "execute_result"
    }
   ],
   "source": [
    "w0, w = linear_regression_training_workflow(\n",
    "    features=features_all,\n",
    "    df_train=df_full_train,\n",
    "    y_train=y_full_train,\n",
    "    regularization_factor=0.001\n",
    ")\n",
    "\n",
    "w0"
   ]
  },
  {
   "cell_type": "code",
   "execution_count": 103,
   "metadata": {},
   "outputs": [
    {
     "data": {
      "text/plain": [
       "0.5247955144722601"
      ]
     },
     "execution_count": 103,
     "metadata": {},
     "output_type": "execute_result"
    }
   ],
   "source": [
    "extra_features = map_extra_features(df_cars_test)\n",
    "features_all = (get_base_features()\n",
    "            + get_age_feature()\n",
    "            + get_doors_features()\n",
    "            + [f'{key}_{val}' for key, vals in extra_features.items() for val in vals]\n",
    ")\n",
    "get_age = True\n",
    "get_doors = True\n",
    "get_base = True\n",
    "\n",
    "df_features_test = add_features_to_dataframe(df_cars_test, base=get_base, age=get_age, doors=get_doors, extra_categories=extra_features)\n",
    "\n",
    "score = linear_regression_testing_workflow(\n",
    "    features=features_all,\n",
    "    df_test=df_features_test,\n",
    "    y_test=y_cars_test,\n",
    "    w0=w0,\n",
    "    w=w\n",
    ")\n",
    "\n",
    "score # Why is this out of whack compared to the tutorial? And when evaluating gave a score of 0.46?"
   ]
  },
  {
   "cell_type": "code",
   "execution_count": 107,
   "metadata": {},
   "outputs": [],
   "source": [
    "test_car = df_cars_test.iloc[20].to_dict()"
   ]
  },
  {
   "cell_type": "code",
   "execution_count": 128,
   "metadata": {},
   "outputs": [],
   "source": [
    "df_car = pd.DataFrame([test_car])\n",
    "single_car_extra_features = map_extra_features(df_cars_test)\n",
    "single_car_features_all = (get_base_features()\n",
    "            + get_age_feature()\n",
    "            + get_doors_features()\n",
    "            + [f'{key}_{val}' for key, vals in single_car_extra_features.items() for val in vals]\n",
    ")\n",
    "get_age = True\n",
    "get_doors = True\n",
    "get_base = True\n",
    "\n",
    "df_features_single_car = add_features_to_dataframe(df_car, base=get_base, age=get_age, doors=get_doors, extra_categories=single_car_extra_features)"
   ]
  },
  {
   "cell_type": "code",
   "execution_count": 132,
   "metadata": {},
   "outputs": [
    {
     "data": {
      "text/plain": [
       "10.372266404600563"
      ]
     },
     "execution_count": 132,
     "metadata": {},
     "output_type": "execute_result"
    }
   ],
   "source": [
    "X_test_car = prepare_X(single_car_features_all, df_features_single_car)\n",
    "\n",
    "y_pred = w0 + X_test_car.dot(w)\n",
    "#s_single_car.shape, X_test_car.shape)\n",
    "#print(single_car_features_all)\n",
    "y_pred = y_pred[0]\n",
    "y_pred"
   ]
  },
  {
   "cell_type": "code",
   "execution_count": 134,
   "metadata": {},
   "outputs": [
    {
     "data": {
      "text/plain": [
       "31959.831121668933"
      ]
     },
     "execution_count": 134,
     "metadata": {},
     "output_type": "execute_result"
    }
   ],
   "source": [
    "actual_pred = np.expm1(y_pred)\n",
    "actual_pred"
   ]
  },
  {
   "cell_type": "code",
   "execution_count": 135,
   "metadata": {},
   "outputs": [
    {
     "ename": "NameError",
     "evalue": "name 'actaul_cost' is not defined",
     "output_type": "error",
     "traceback": [
      "\u001b[1;31m---------------------------------------------------------------------------\u001b[0m",
      "\u001b[1;31mNameError\u001b[0m                                 Traceback (most recent call last)",
      "Cell \u001b[1;32mIn[135], line 2\u001b[0m\n\u001b[0;32m      1\u001b[0m actual_cost \u001b[39m=\u001b[39m np\u001b[39m.\u001b[39mexpm1(y_cars_test[\u001b[39m20\u001b[39m])\n\u001b[1;32m----> 2\u001b[0m actaul_cost\n",
      "\u001b[1;31mNameError\u001b[0m: name 'actaul_cost' is not defined"
     ]
    }
   ],
   "source": [
    "actual_cost = np.expm1(y_cars_test[20])\n",
    "actual_cost"
   ]
  }
 ],
 "metadata": {
  "kernelspec": {
   "display_name": "Python 3.9.13 ('.venv': venv)",
   "language": "python",
   "name": "python3"
  },
  "language_info": {
   "codemirror_mode": {
    "name": "ipython",
    "version": 3
   },
   "file_extension": ".py",
   "mimetype": "text/x-python",
   "name": "python",
   "nbconvert_exporter": "python",
   "pygments_lexer": "ipython3",
   "version": "3.9.13"
  },
  "orig_nbformat": 4,
  "vscode": {
   "interpreter": {
    "hash": "7eee6af7cac87e68df4dd0d1c115f37fc0318a2425ce5e8e24ae6dbbc2650562"
   }
  }
 },
 "nbformat": 4,
 "nbformat_minor": 2
}
