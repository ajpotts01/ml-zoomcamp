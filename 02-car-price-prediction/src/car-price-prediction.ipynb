{
 "cells": [
  {
   "cell_type": "code",
   "execution_count": null,
   "metadata": {},
   "outputs": [],
   "source": [
    "from typing import Union, Tuple\n",
    "\n",
    "import pandas as pd\n",
    "import numpy as np\n",
    "\n",
    "import matplotlib.pyplot as plt\n",
    "import seaborn as sns\n",
    "\n",
    "%matplotlib inline"
   ]
  },
  {
   "cell_type": "code",
   "execution_count": null,
   "metadata": {},
   "outputs": [],
   "source": [
    "# Data is previously retrieved from https://www.kaggle.com/datasets/CooperUnion/cardataset\n",
    "DATA_PATH = '../data/data.csv'"
   ]
  },
  {
   "cell_type": "code",
   "execution_count": 87,
   "metadata": {},
   "outputs": [],
   "source": [
    "def standardise_strings(\n",
    "    target: Union[pd.core.strings.accessor.StringMethods, pd.core.indexes.base.Index]\n",
    ") -> Union[pd.core.series.Series, pd.core.indexes.base.Index]:\n",
    "    \"\"\"\n",
    "        Stage 1 cleaning for this price prediction:\n",
    "        - Lower case for everything\n",
    "        - Spaces replaced by underscores\n",
    "\n",
    "        Can work on either Pandas indices (e.g. column headers) or Pandas series (e.g. row data)\n",
    "        \n",
    "        :param StringMethods | Index target: the target row or column to standardise\n",
    "        :return StringMethods | Index result: the standardised row or column\n",
    "\n",
    "        Note the return types are using typing since this was written pre-3.10.\n",
    "    \"\"\"\n",
    "    result = (\n",
    "        target\n",
    "        .str\n",
    "        .lower()\n",
    "        .str\n",
    "        .replace(' ', '_')\n",
    "    )\n",
    "\n",
    "    return result\n",
    "\n",
    "def train_test_val_split(\n",
    "    df_data: pd.DataFrame,\n",
    "    validation_split: float=0.2,\n",
    "    testing_split: float=0.2,\n",
    "    shuffle_seed:int = 2\n",
    ") -> Tuple[pd.DataFrame, pd.DataFrame, pd.DataFrame]:\n",
    "    \"\"\"\n",
    "        Stage 2: Validation framework for this price prediction:\n",
    "        - Source data shuffled with numpy\n",
    "        - Split into validation/test sets in specified ratios\n",
    "        - The remainder reserved for training.\n",
    "\n",
    "        :param pd.DataFrame df_data: dataset to split\n",
    "        :param float validation_split: ratio to split source data into a validation set: 20% by default\n",
    "        :param float testing_split: ratio to split source data into a testing set: 20% by default\n",
    "        :param int shuffle_seed: random seed for shuffling - default is 2\n",
    "\n",
    "        :return Tuple[pd.DataFrame, pd.DataFrame, pd.DataFrame] df_train, df_val, df_test: all dataframes shuffled and split in their specific ratios.\n",
    "\n",
    "        Note the return types are using typing since this was written pre-3.10.\n",
    "    \"\"\"\n",
    "    n = len(df_data)\n",
    "    n_val = int(n * validation_split)\n",
    "    n_test = int(n * testing_split)\n",
    "    n_train = n - n_val - n_test\n",
    "\n",
    "    idx = np.arange(n)\n",
    "    np.random.seed(shuffle_seed)\n",
    "    np.random.shuffle(idx)\n",
    "\n",
    "    df_train = df_data.iloc[idx[:n_train]]\n",
    "    df_val = df_data.iloc[idx[n_train:n_val + n_train]]\n",
    "    df_test = df_data.iloc[idx[n_train + n_val:]]\n",
    "\n",
    "    return df_train, df_val, df_test\n",
    "\n",
    "def regression_setup(\n",
    "    df_data: pd.DataFrame, \n",
    "    label: str\n",
    ") -> Tuple[pd.DataFrame, np.ndarray]:\n",
    "    \"\"\"\n",
    "        Stage 3: Extract y-value from the different train/test/val datasets\n",
    "        The following is done to the source dataframe:\n",
    "        - Index dropped\n",
    "        - Y-value extracted to its own numpy array and returned\n",
    "        - The column used for y-value is deleted from the source dataframe - the modified dataframe is also returned\n",
    "\n",
    "        :param pd.DataFrame df_data: dataset to use\n",
    "        :param str label: Desired y-value\n",
    "\n",
    "        :return Tuple[pd.DataFrame, np.ndarray] df_data, y_data: dataframe with label removed, plus the label data in separate array\n",
    "\n",
    "        Note the return types are using typing since this was written pre-3.10.\n",
    "    \"\"\"\n",
    "    # Indexes not necessary - so drop them\n",
    "    df_data = df_data.reset_index(drop=True)\n",
    "\n",
    "    # Grab the label/y-value as a separate numpy array\n",
    "    y_data = np.log1p(df_data[label].values)\n",
    "\n",
    "    # Get rid of the y-value from the datasets so they don't accidentally get used as features...\n",
    "    del df_data[label]\n",
    "\n",
    "    return df_data, y_data    \n",
    "\n",
    "def summary_printout(\n",
    "    df: pd.DataFrame, \n",
    "    col: str\n",
    "):\n",
    "    \"\"\"\n",
    "        Summary printout for a Pandas dataframe column.\n",
    "\n",
    "        :param pd.DataFrame df: The source dataframe\n",
    "        :param str col: The column name\n",
    "\n",
    "        No returns.\n",
    "    \"\"\"\n",
    "    print(f\"Summary printout for {col}\")\n",
    "    print(f\"Total unique values: {df[col].nunique()}\")\n",
    "    print(f\"Sample: {df[col].unique()[:5]}\")    "
   ]
  },
  {
   "cell_type": "code",
   "execution_count": null,
   "metadata": {},
   "outputs": [],
   "source": [
    "df_cars = pd.read_csv(DATA_PATH)\n",
    "df_cars.head()"
   ]
  },
  {
   "cell_type": "code",
   "execution_count": null,
   "metadata": {},
   "outputs": [],
   "source": [
    "# Stage 1 Cleaning on both column headers and values.\n",
    "df_cars.columns = standardise_strings(df_cars.columns)\n",
    "df_cars.columns\n",
    "\n",
    "# Original code: df.dtypes == 'object' - not a fan.\n",
    "# Get rid of magic strings and filters using those :)\n",
    "object_filter = df_cars.dtypes == type(object)\n",
    "\n",
    "# This is then used to do the same column conversions as before\n",
    "string_cols = list(df_cars.dtypes[object_filter].index)\n",
    "\n",
    "for next_col in string_cols:\n",
    "    df_cars[next_col] = standardise_strings(df_cars[next_col])\n",
    "\n",
    "df_cars.head()"
   ]
  },
  {
   "cell_type": "code",
   "execution_count": null,
   "metadata": {},
   "outputs": [],
   "source": [
    "for next_col in df_cars.columns:\n",
    "    summary_printout(df=df_cars, col=next_col)"
   ]
  },
  {
   "cell_type": "markdown",
   "metadata": {},
   "source": [
    "### First chart\n",
    "\n",
    "We are expecting a long-tail distribution for this dataset - some cars will be very expensive (e.g. up to $2m) and will make the initial graph look skewed."
   ]
  },
  {
   "cell_type": "code",
   "execution_count": null,
   "metadata": {},
   "outputs": [],
   "source": [
    "# First graph to show everything\n",
    "sns.histplot(df_cars.msrp, bins=50)"
   ]
  },
  {
   "cell_type": "code",
   "execution_count": null,
   "metadata": {},
   "outputs": [],
   "source": [
    "# Second graph to show a better view of the distribution\n",
    "# There are still a very large number of cars with $1000 price though\n",
    "filter = df_cars.msrp < 100000\n",
    "sns.histplot(df_cars.msrp[filter], bins=50)"
   ]
  },
  {
   "cell_type": "code",
   "execution_count": null,
   "metadata": {},
   "outputs": [],
   "source": [
    "# Turn prices into logarithmic values (np.log1p so divide by zero error doesn't occur)\n",
    "# The resulting graph is closer to a normal distribution - despite the weird $1000 values (indicates this may be the minimum price to list)\n",
    "log_price = np.log1p(df_cars.msrp)\n",
    "sns.histplot(log_price, bins=50)"
   ]
  },
  {
   "cell_type": "markdown",
   "metadata": {},
   "source": [
    "### Validation framework"
   ]
  },
  {
   "cell_type": "code",
   "execution_count": null,
   "metadata": {},
   "outputs": [],
   "source": [
    "df_cars_train, df_cars_val, df_cars_test = train_test_val_split(df_data=df_cars, validation_split=0.2, testing_split=0.2, shuffle_seed=2)"
   ]
  },
  {
   "cell_type": "code",
   "execution_count": null,
   "metadata": {},
   "outputs": [],
   "source": [
    "# Set up labels for each dataset\n",
    "Y_VAL_LABEL = 'msrp'\n",
    "\n",
    "df_cars_train, y_cars_train = regression_setup(df_cars_train, Y_VAL_LABEL)\n",
    "df_cars_val, y_cars_val = regression_setup(df_cars_val, Y_VAL_LABEL)\n",
    "df_cars_test, y_cars_test = regression_setup(df_cars_test, Y_VAL_LABEL)"
   ]
  },
  {
   "cell_type": "markdown",
   "metadata": {},
   "source": [
    "### Linear Regression Training"
   ]
  },
  {
   "cell_type": "markdown",
   "metadata": {},
   "source": [
    "#### Vector-Based Regression Formula Example\n",
    "$g(x_i) = W_0 + W_1 \\cdot x_{i1} + W_2 \\cdot x_{i2} ... W_n \\cdot x_{in}$\n",
    "\n",
    "This can also be written as:  \n",
    "  \n",
    "$g(x_i) = W_0 + \\sum_{j=1}^n W_j \\cdot x_{ij}$  \n",
    "  \n",
    "or in our case, with 3 features selected:  \n",
    "  \n",
    "$g(x_i) = W_0 + \\sum_{j=1}^3 W_j \\cdot x_{ij}$  \n",
    "\n",
    "But when all records are included, this can be simplified as:\n",
    "$g(X) = X \\cdot y$ where $X$ is a feature matrix, and y is a vector of weights.\n",
    "\n",
    "So long as $W_0$ is integrated into the rest of the weights, and $x_0$ is 1."
   ]
  },
  {
   "cell_type": "code",
   "execution_count": 106,
   "metadata": {},
   "outputs": [],
   "source": [
    "def linear_regression(\n",
    "    X: np.ndarray,\n",
    "    w: list\n",
    ") -> np.ndarray:\n",
    "    \n",
    "    prediction = X.dot(w)\n",
    "\n",
    "    return prediction"
   ]
  },
  {
   "cell_type": "code",
   "execution_count": 107,
   "metadata": {},
   "outputs": [
    {
     "data": {
      "text/plain": [
       "array([12.38 , 13.552, 12.312])"
      ]
     },
     "execution_count": 107,
     "metadata": {},
     "output_type": "execute_result"
    }
   ],
   "source": [
    "x1 = [1, 148, 24, 1385]\n",
    "x2 = [1, 132, 25, 2031]\n",
    "x10 = [1, 453, 11, 86]\n",
    "w = [7.17, 0.01, 0.04, 0.002]\n",
    "\n",
    "X = [x1, x2, x10]\n",
    "X = np.array(X)\n",
    "\n",
    "# Reverse the log1p done on the MSRP in a previous step to get the \"real\" MSRP value\n",
    "np.expm1(linear_regression(X, w))"
   ]
  },
  {
   "cell_type": "markdown",
   "metadata": {},
   "source": [
    "#### Normal Regression Formula\n",
    "\n",
    "The above vector formula was using hard-coded weights. Later, the Zoomcamp goes into deriving these ourselves.\n",
    "\n",
    "This needs to be approximated with something called a **Gram matrix**:\n",
    "\n",
    "$X \\cdot X^T$ where $X^T$ is the feature matrix transposed.\n",
    "\n",
    "This results in the final equation:\n",
    "\n",
    "$w = (X^TX)^{-1} X^Ty$"
   ]
  },
  {
   "cell_type": "code",
   "execution_count": null,
   "metadata": {},
   "outputs": [],
   "source": [
    "def train_linear_regression(\n",
    "    X: np.ndarray, \n",
    "    y: np.ndarray) -> Tuple[float, np.ndarray]:\n",
    "\n",
    "    \"\"\"\n",
    "        Trains a linear regression model per the \"normal\" regression formula above.\n",
    "        \n",
    "        :param np.ndarray X: matrix of the features\n",
    "        :param np.ndarray y: matrix of the values/labels\n",
    "\n",
    "        :return Tuple[float, np.ndarray] - the bias weight + all the others\n",
    "\n",
    "        Note the return types are using typing since this was written pre-3.10.    \n",
    "    \"\"\"\n",
    "\n",
    "    # Add 1s\n",
    "    ones = np.ones(X.shape[0])\n",
    "    X = np.column_stack([ones, X])\n",
    "\n",
    "    # Normal equation with transposed X\n",
    "    XTX = X.T.dot(X)\n",
    "    XTX_inv = np.linalg.inv(XTX)\n",
    "    w_full = XTX_inv.dot(X.T).dot(y)\n",
    "\n",
    "    return w_full[0], w_full[1:]"
   ]
  },
  {
   "cell_type": "code",
   "execution_count": 144,
   "metadata": {},
   "outputs": [],
   "source": [
    "def prepare_X(\n",
    "    features: list,\n",
    "    df_data: pd.DataFrame\n",
    ") -> np.ndarray:\n",
    "    df_features = df_data[features].fillna(0)\n",
    "    X = df_features.values\n",
    "    return X"
   ]
  },
  {
   "cell_type": "code",
   "execution_count": 146,
   "metadata": {},
   "outputs": [
    {
     "data": {
      "text/plain": [
       "0.7554192603920132"
      ]
     },
     "execution_count": 146,
     "metadata": {},
     "output_type": "execute_result"
    }
   ],
   "source": [
    "features_base = ['engine_hp', 'engine_cylinders', 'highway_mpg', 'city_mpg', 'popularity']\n",
    "\n",
    "# Training\n",
    "X_cars_train = prepare_X(features_base, df_cars_train)\n",
    "# Already have y_cars_train earlier from the cleaning stage\n",
    "\n",
    "w0, w = train_linear_regression(X_cars_train, y_cars_train)\n",
    "y_cars_pred = w0 + X_cars_train.dot(w)\n",
    "\n",
    "rmse(y_cars_train, y_cars_pred)"
   ]
  },
  {
   "cell_type": "markdown",
   "metadata": {},
   "source": [
    "#### Comparing initial model vs. actual values\n",
    "\n",
    "It's a bit off."
   ]
  },
  {
   "cell_type": "code",
   "execution_count": 136,
   "metadata": {},
   "outputs": [
    {
     "data": {
      "text/plain": [
       "<AxesSubplot: ylabel='Count'>"
      ]
     },
     "execution_count": 136,
     "metadata": {},
     "output_type": "execute_result"
    },
    {
     "data": {
      "image/png": "[encoded data removed]",
      "text/plain": [
       "<Figure size 640x480 with 1 Axes>"
      ]
     },
     "metadata": {},
     "output_type": "display_data"
    }
   ],
   "source": [
    "sns.histplot(y_cars_pred, color='red', alpha=0.5, bins=50)\n",
    "sns.histplot(y_cars_train, color='blue', alpha=0.5, bins=50)"
   ]
  },
  {
   "cell_type": "markdown",
   "metadata": {},
   "source": [
    "#### Using RMSE to figure things out\n",
    "\n",
    "RMSE = \"Root Mean Squared Error\""
   ]
  },
  {
   "cell_type": "code",
   "execution_count": 143,
   "metadata": {},
   "outputs": [
    {
     "data": {
      "text/plain": [
       "0.7554192603920132"
      ]
     },
     "execution_count": 143,
     "metadata": {},
     "output_type": "execute_result"
    }
   ],
   "source": [
    "def rmse(\n",
    "    y: np.ndarray, \n",
    "    y_pred: np.ndarray\n",
    ") -> np.float64:\n",
    "    squared_error = (y - y_pred) ** 2\n",
    "    mean_squared_error = squared_error.mean()\n",
    "    root_mean_squared_error = np.sqrt(mean_squared_error)\n",
    "    return root_mean_squared_error"
   ]
  },
  {
   "cell_type": "code",
   "execution_count": 145,
   "metadata": {},
   "outputs": [
    {
     "data": {
      "text/plain": [
       "0.761653099130156"
      ]
     },
     "execution_count": 145,
     "metadata": {},
     "output_type": "execute_result"
    }
   ],
   "source": [
    "features_base = ['engine_hp', 'engine_cylinders', 'highway_mpg', 'city_mpg', 'popularity']\n",
    "\n",
    "# Training\n",
    "X_cars_train = prepare_X(features_base, df_cars_train)\n",
    "# Already have y_cars_train earlier from the cleaning stage\n",
    "\n",
    "w0, w = train_linear_regression(X_cars_train, y_cars_train)\n",
    "y_cars_pred = w0 + X_cars_train.dot(w)\n",
    "\n",
    "# Validation\n",
    "X_cars_val = prepare_X(features_base, df_cars_val)\n",
    "y_cars_val_pred = w0 + X_cars_val.dot(w)\n",
    "\n",
    "rmse(y_cars_val, y_cars_val_pred)"
   ]
  }
 ],
 "metadata": {
  "kernelspec": {
   "display_name": "Python 3.9.13 ('.venv': venv)",
   "language": "python",
   "name": "python3"
  },
  "language_info": {
   "codemirror_mode": {
    "name": "ipython",
    "version": 3
   },
   "file_extension": ".py",
   "mimetype": "text/x-python",
   "name": "python",
   "nbconvert_exporter": "python",
   "pygments_lexer": "ipython3",
   "version": "3.9.13"
  },
  "orig_nbformat": 4,
  "vscode": {
   "interpreter": {
    "hash": "7eee6af7cac87e68df4dd0d1c115f37fc0318a2425ce5e8e24ae6dbbc2650562"
   }
  }
 },
 "nbformat": 4,
 "nbformat_minor": 2
}
